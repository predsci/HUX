{
 "cells": [
  {
   "cell_type": "markdown",
   "metadata": {},
   "source": [
    "# Optimize Free parameters $\\alpha$ and $r_{h}$ in the HUX model\n",
    "\n",
    "### Optimization method: Nonlinear least squares fit. "
   ]
  },
  {
   "cell_type": "markdown",
   "metadata": {},
   "source": [
    "### Non-linear least squares minimizes the sum of squares difference between the data and the model. \n",
    "\n",
    "\n",
    "$$S = \\sum_{i=1}^{m} {r_{i}}^2$$\n",
    "\n",
    "$$r_{i} = y_{i} - f(x_{i}, \\alpha, r_{h})$$\n"
   ]
  },
  {
   "cell_type": "code",
   "execution_count": 1,
   "metadata": {},
   "outputs": [],
   "source": [
    "import matplotlib as mpl\n",
    "import numpy as np \n",
    "from tools.psihdf4 import rdhdf_3d\n",
    "import matplotlib.pyplot as plt\n",
    "import matplotlib.cm as cm\n",
    "from mpl_toolkits.mplot3d import Axes3D  \n",
    "from scipy import stats\n",
    "import scipy.optimize as optimization\n",
    "import scipy\n",
    "\n",
    "%matplotlib notebook\n",
    "plt.rcParams['figure.figsize'] = [10, 5] # default fig size."
   ]
  },
  {
   "cell_type": "markdown",
   "metadata": {},
   "source": [
    "# HUX-f Pseudocode \n",
    "\n",
    "![](figures/HUX_F_pc.png)"
   ]
  },
  {
   "cell_type": "markdown",
   "metadata": {},
   "source": [
    "# Apply the HUX-f mapping"
   ]
  },
  {
   "cell_type": "code",
   "execution_count": 2,
   "metadata": {},
   "outputs": [],
   "source": [
    "def hux_f_mapping(r_initial, r, p, omega_rot, dr_vec, dp_vec, alpha, rh, add_v_acc=True):\n",
    "    \"\"\" apply 1d upwind model to the inviscid burgers equation. r/phi grid.\"\"\"\n",
    "    v_next = np.zeros(len(p)) # initialize v_next, r = 1\n",
    "    v_prev = r_initial # v_previous, r = 0\n",
    "\n",
    "    if add_v_acc:\n",
    "        v_acc = alpha * (v_prev*(1 - np.exp(-r[0]/rh)))\n",
    "        v_prev = v_acc + v_prev\n",
    "\n",
    "    for i in range(len(r) -1):\n",
    "        for j in range(len(p)):\n",
    "\n",
    "            if j == len(p) -1: # force periodicity \n",
    "                v_next[-1] = v_next[0]\n",
    "\n",
    "            else:\n",
    "                if (omega_rot*dr_vec[i])/(dp_vec[j]*v_prev[j]) > 1:\n",
    "                    break\n",
    "\n",
    "                frac1 = (v_prev[j+1] - v_prev[j]) / v_prev[j]\n",
    "                frac2 = (omega_rot * dr_vec[i]) / dp_vec[j]\n",
    "                v_next[j] = v_prev[j] + frac1*frac2\n",
    "                \n",
    "        if i != len(r) -2:\n",
    "            v_prev = v_next \n",
    "\n",
    "    return v_next"
   ]
  },
  {
   "cell_type": "code",
   "execution_count": 3,
   "metadata": {},
   "outputs": [],
   "source": [
    "def get_hux_approx_at_1_au(r_initial, r, p, t, omega_rot, dr_vec, dp_vec, alpha, rh):\n",
    "    \"\"\" return the solar wind proton velocity at r = 1 AU for all slices in theta. \"\"\"\n",
    "    upwind_approx = np.ones((len(p), len(t)))\n",
    "    for ii in range(len(t)):\n",
    "        upwind_approx[:, ii] = hux_f_mapping(r_initial[:, ii], r, p, omega_rot, dr_vec, dp_vec, alpha, rh)\n",
    "    return np.matrix.flatten(upwind_approx)"
   ]
  },
  {
   "cell_type": "code",
   "execution_count": 4,
   "metadata": {},
   "outputs": [],
   "source": [
    "# read the 3d hdf file. \n",
    "hdf_file_path = \"data/vr002.hdf\"\n",
    "r, t, p, f = rdhdf_3d(hdf_file_path)"
   ]
  },
  {
   "cell_type": "code",
   "execution_count": 5,
   "metadata": {},
   "outputs": [],
   "source": [
    "# change scalers units: \n",
    "# Theta: from radians to degrees. colatitude. \n",
    "t[0] = 0\n",
    "t[-1] = np.pi\n",
    "t_plot = np.pi/2 - t\n",
    "t_plot = np.sin(t_plot)"
   ]
  },
  {
   "cell_type": "code",
   "execution_count": 6,
   "metadata": {},
   "outputs": [],
   "source": [
    "# force periodicity on f\n",
    "# since the last phi index is less than 2*pi, then we will append 2*pi to phi scale.\n",
    "p = np.append(p, 2*np.pi) "
   ]
  },
  {
   "cell_type": "code",
   "execution_count": 7,
   "metadata": {},
   "outputs": [],
   "source": [
    "# append the first slice p=0 to velocity matrix. \n",
    "f = np.append(f,[f[0,:, :]],axis=0)"
   ]
  },
  {
   "cell_type": "code",
   "execution_count": 8,
   "metadata": {},
   "outputs": [],
   "source": [
    "# Radius: from solar radii to km. \n",
    "# 1 solar radii = 695,700 km\n",
    "r = (695700)*r"
   ]
  },
  {
   "cell_type": "code",
   "execution_count": 9,
   "metadata": {},
   "outputs": [],
   "source": [
    "# Velocity profile: PSI convertion units conversion from MAS to cgs. \n",
    "# See: https://www.researchgate.net/figure/Converting-from-MAS-code-units-to-cgs-and-MKS_tbl1_228551881\n",
    "f = (481.3711)*f"
   ]
  },
  {
   "cell_type": "code",
   "execution_count": 10,
   "metadata": {},
   "outputs": [
    {
     "name": "stdout",
     "output_type": "stream",
     "text": [
      "shape of v_iniital (129, 111, 140)\n",
      "shape of v_final (129, 111, 140)\n"
     ]
    }
   ],
   "source": [
    "# slice velocity_mat, for r first index (30 solar radii).\n",
    "v_initial = f[:, :, 0]\n",
    "print(\"shape of v_iniital\", np.shape(f))\n",
    "# slice velocity_mat, for r last index(approx 1 AU).\n",
    "v_final = f[:, :, -1]\n",
    "print(\"shape of v_final\", np.shape(f))"
   ]
  },
  {
   "cell_type": "code",
   "execution_count": 11,
   "metadata": {},
   "outputs": [],
   "source": [
    "# setting parameters. \n",
    "omega_rot = (2*np.pi)/(25.38*86400)\n",
    "alpha = 0.15\n",
    "rh = 50* (695700)\n",
    "# setting parameters. The phi and radial mesh spacing. \n",
    "dp_vec = p[1:] - p[:-1]\n",
    "dr_vec = r[1:] - r[:-1]"
   ]
  },
  {
   "cell_type": "code",
   "execution_count": 12,
   "metadata": {},
   "outputs": [],
   "source": [
    "# create the model function with free - parameters: [alpha, rh]. \n",
    "fit_model_1 = lambda r_initial, alpha, rh: get_hux_approx_at_1_au(r_initial, r, p, t, omega_rot, dr_vec, dp_vec, alpha, rh)"
   ]
  },
  {
   "cell_type": "code",
   "execution_count": 13,
   "metadata": {},
   "outputs": [],
   "source": [
    "popt, _ = scipy.optimize.curve_fit(f=fit_model_1, xdata=v_initial, ydata=np.matrix.flatten(v_final), p0=[0.15, 50*(695700)])"
   ]
  },
  {
   "cell_type": "code",
   "execution_count": 14,
   "metadata": {},
   "outputs": [
    {
     "name": "stdout",
     "output_type": "stream",
     "text": [
      "The optimal alpha:  0.3108286418705637\n"
     ]
    }
   ],
   "source": [
    "print(\"The optimal alpha: \", popt[0])"
   ]
  },
  {
   "cell_type": "code",
   "execution_count": null,
   "metadata": {},
   "outputs": [],
   "source": [
    "print(\"The optimal rh: \" + str(popt[1]/(695700)) + \" (RS)\")"
   ]
  },
  {
   "cell_type": "markdown",
   "metadata": {},
   "source": [
    "## Plot the relative error using the parameter values above, and compare with initial parameters. "
   ]
  },
  {
   "cell_type": "code",
   "execution_count": null,
   "metadata": {},
   "outputs": [],
   "source": [
    "# first for alpha = 0.15 and rh = 50 solar radii. \n",
    "result_1 = get_hux_approx_at_1_au(v_initial, r, p, t, omega_rot, dr_vec, dp_vec, 0.15, 50*(695700))\n",
    "# unflatten the result. \n",
    "result_1 = result_1.reshape(len(p), -1)"
   ]
  },
  {
   "cell_type": "code",
   "execution_count": null,
   "metadata": {},
   "outputs": [],
   "source": [
    "# NOTE: pcolorfast and pcolormesh want the coords of pixel corners not centers --> build a \"half mesh\" for p & t.\n",
    "# - This means making an array that is n+1 size and has the midpoint positions of the original.\n",
    "# - Here we clip the endpoints of the half mesh to the original bounds, vs extrapolate.\n",
    "# - see also https://matplotlib.org/api/_as_gen/matplotlib.pyplot.pcolormesh.html.\n",
    "\n",
    "cmap = 'gnuplot'\n",
    "\n",
    "ph = np.concatenate([[p[0]], 0.5 * (p[1:] + p[:-1]), [p[-1]]])\n",
    "th = np.concatenate([[t_plot[0]], 0.5 * (t_plot[1:] + t_plot[:-1]), [t_plot[-1]]])"
   ]
  },
  {
   "cell_type": "code",
   "execution_count": null,
   "metadata": {},
   "outputs": [],
   "source": [
    "%matplotlib inline\n",
    "fig, ax = plt.subplots()\n",
    "ax.set_ylim(-1, 1)\n",
    "ax.set_xlim(0, 360)\n",
    "ax.set_title(\"$ (v_{predict} - v) / v, alpha=0.15, rh=50 RS$\")\n",
    "ax.set_ylabel(\"Sin(Lat.)\")\n",
    "ax.set_xlabel(\"Longitude (Deg.)\")\n",
    "ax.set_yticks(ticks=[-1, -0.5, 0, 0.5, 1])\n",
    "ax.set_xticks(ticks=[0, 90, 180, 270, 360])\n",
    "_ = im1 = ax.contour((180/np.pi)*p , t_plot, np.subtract(result_1.T, v_final.T)/v_final.T, linewidths=2, vmin=-0.3, vmax=0.3)\n",
    "_ = im2 = ax.pcolorfast(ph*((180/np.pi)), th, np.subtract(result_1.T, v_final.T)/v_final.T, cmap=\"RdBu\", vmin=-0.3, vmax=0.3)\n",
    "_ = fig.colorbar(im1, ax=ax, orientation=\"horizontal\", fraction=0.07, anchor=(2,0.0))\n",
    "_ = fig.colorbar(im2, ax=ax)"
   ]
  },
  {
   "cell_type": "code",
   "execution_count": null,
   "metadata": {},
   "outputs": [],
   "source": [
    "print(\"MSE = \", np.square(np.subtract(result_1, v_final)).mean())"
   ]
  },
  {
   "cell_type": "code",
   "execution_count": null,
   "metadata": {},
   "outputs": [],
   "source": [
    "# first for alpha = 0.31 and rh = 43.78 solar radii. \n",
    "result_2 = get_hux_approx_at_1_au(v_initial, r, p, t, omega_rot, dr_vec, dp_vec, popt[0] , popt[1])\n",
    "# unflatten the result. \n",
    "result_2 = result_2.reshape(len(p), -1)"
   ]
  },
  {
   "cell_type": "code",
   "execution_count": null,
   "metadata": {},
   "outputs": [],
   "source": [
    "fig2, ax2 = plt.subplots()\n",
    "ax2.set_ylim(-1, 1)\n",
    "ax2.set_xlim(0, 360)\n",
    "ax2.set_title(\"$ (v_{predict} - v) / v, alpha=0.31, rh=43.78 SR$\")\n",
    "ax2.set_ylabel(\"Sin(Lat.)\")\n",
    "ax2.set_xlabel(\"Longitude (Deg.)\")\n",
    "ax2.set_yticks(ticks=[-1, -0.5, 0, 0.5, 1])\n",
    "ax2.set_xticks(ticks=[0, 90, 180, 270, 360])\n",
    "_ = im1 = ax2.contour((180/np.pi)*p , t_plot, np.subtract(result_2.T, v_final.T)/v_final.T, linewidths=2, vmin=-0.3, vmax=0.3)\n",
    "_ = im2 = ax2.pcolorfast(ph*((180/np.pi)), th, np.subtract(result_2.T, v_final.T)/v_final.T, cmap=\"RdBu\", vmin=-0.3, vmax=0.3)\n",
    "_ = fig.colorbar(im1, ax=ax2, orientation=\"horizontal\", fraction=0.07, anchor=(2,0.0))\n",
    "_ = fig.colorbar(im2, ax=ax2)"
   ]
  },
  {
   "cell_type": "code",
   "execution_count": null,
   "metadata": {},
   "outputs": [],
   "source": [
    "print(\"MSE = \", np.square(np.subtract(result_2, v_final)).mean())"
   ]
  },
  {
   "cell_type": "code",
   "execution_count": null,
   "metadata": {},
   "outputs": [],
   "source": [
    "fig, ax = plt.subplots()\n",
    "ax.set_ylim(-1, 1)\n",
    "ax.set_xlim(0, 360)\n",
    "ax.set_title(\"$ model_2 - model_1 $\")\n",
    "ax.set_ylabel(\"Sin(Lat.)\")\n",
    "ax.set_xlabel(\"Longitude (Deg.)\")\n",
    "ax.set_yticks(ticks=[-1, -0.5, 0, 0.5, 1])\n",
    "ax.set_xticks(ticks=[0, 90, 180, 270, 360])\n",
    "_ = im1 = ax.contour((180/np.pi)*p , t_plot, np.subtract(result_2.T, result_1.T)/result_1.T, linewidths=2, vmin=-0.3, vmax=0.3)\n",
    "_ = im2 = ax.pcolorfast(ph*((180/np.pi)), th, np.subtract(result_2.T, result_1.T)/result_1.T, cmap=\"RdBu\", vmin=-0.3, vmax=0.3)\n",
    "_ = fig.colorbar(im1, ax=ax, orientation=\"horizontal\", fraction=0.07, anchor=(2,0.0))\n",
    "_ = fig.colorbar(im2, ax=ax)"
   ]
  },
  {
   "cell_type": "code",
   "execution_count": null,
   "metadata": {},
   "outputs": [],
   "source": [
    "print(\"MSE = \", np.square(np.subtract(result_2, result_1)).mean())"
   ]
  },
  {
   "cell_type": "markdown",
   "metadata": {},
   "source": [
    "# Differential Rotation. \n",
    "For more info: \n",
    "[Click here]( https://iopscience.iop.org/article/10.1086/504289/pdf)"
   ]
  },
  {
   "cell_type": "markdown",
   "metadata": {},
   "source": [
    "![Image of Solar Rotation](data:image/jpeg;base64,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)"
   ]
  },
  {
   "cell_type": "markdown",
   "metadata": {},
   "source": [
    "$ \\omega (\\theta) = - 2.°77 \\cos(\\theta)^2 day^{-1}$\n",
    "\n",
    "\n",
    "$ \\Omega_{rot} (\\theta) = \\frac{2\\pi}{25.38} - \\frac{2.77\\pi}{180} cos(\\theta)^2 $\n"
   ]
  },
  {
   "cell_type": "code",
   "execution_count": null,
   "metadata": {},
   "outputs": [],
   "source": [
    "def get_hux_approx_at_1_au_adj_omega(r_initial, r, p, t, dr_vec, dp_vec, alpha, rh, omega_rot_at_eq=25.38):\n",
    "    \"\"\" return the solar wind proton velocity at r = 1 AU\"\"\"\n",
    "    upwind_approx = np.ones((len(p), len(t)))\n",
    "    for ii in range(len(t)):\n",
    "        omega_rot = 2*np.pi/(get_omega_rot(t[ii], omega_rot_at_eq)*86400)\n",
    "        upwind_approx[:, ii] = hux_f_mapping(r_initial[:, ii], r, p, omega_rot, dr_vec, dp_vec, alpha, rh)\n",
    "    return np.matrix.flatten(upwind_approx)"
   ]
  },
  {
   "cell_type": "code",
   "execution_count": null,
   "metadata": {},
   "outputs": [],
   "source": [
    "# initialize the parameters \n",
    "def get_omega_rot(theta, omega_rot_at_equator=25.38):\n",
    "    w_t = -2.77*np.pi/180\n",
    "    res = 2*np.pi/omega_rot_at_equator + w_t*(np.cos(theta)**2)\n",
    "    days = (res/(2*np.pi))**-1\n",
    "    return days"
   ]
  },
  {
   "cell_type": "code",
   "execution_count": null,
   "metadata": {},
   "outputs": [],
   "source": [
    "# omega rotation at the pole. \n",
    "get_omega_rot(0)"
   ]
  },
  {
   "cell_type": "code",
   "execution_count": null,
   "metadata": {},
   "outputs": [],
   "source": [
    "# omega rotation at the equator. \n",
    "get_omega_rot(np.pi/2)"
   ]
  },
  {
   "cell_type": "code",
   "execution_count": null,
   "metadata": {},
   "outputs": [],
   "source": [
    "# omega rotation at theta=pi/4.\n",
    "get_omega_rot(np.pi/4)"
   ]
  },
  {
   "cell_type": "code",
   "execution_count": null,
   "metadata": {},
   "outputs": [],
   "source": [
    "result_3 = get_hux_approx_at_1_au_adj_omega(r_initial=v_initial, r=r, p=p, t=t, dr_vec=dr_vec, dp_vec=dp_vec, alpha=0.15, rh=50*(695700),omega_rot_at_eq=25.38)\n",
    "# unflatten the result. \n",
    "result_3 = result_3.reshape(len(p), -1)"
   ]
  },
  {
   "cell_type": "code",
   "execution_count": null,
   "metadata": {},
   "outputs": [],
   "source": [
    "fig, ax = plt.subplots()\n",
    "ax.set_ylim(-1, 1)\n",
    "ax.set_xlim(0, 360)\n",
    "ax.set_title(\"$ (v_{predict} - v) / v$, including differential rotation.\")\n",
    "ax.set_ylabel(\"Sin(Lat.)\")\n",
    "ax.set_xlabel(\"Longitude (Deg.)\")\n",
    "ax.set_yticks(ticks=[-1, -0.5, 0, 0.5, 1])\n",
    "ax.set_xticks(ticks=[0, 90, 180, 270, 360])\n",
    "_ = im1 = ax.contour((180/np.pi)*p , t_plot, np.subtract(result_3.T, v_final.T)/v_final.T, linewidths=2, vmin=-0.3, vmax=0.3)\n",
    "_ = im2 = ax.pcolorfast(ph*((180/np.pi)), th, np.subtract(result_3.T, v_final.T)/v_final.T, cmap=\"RdBu\", vmin=-0.3, vmax=0.3)\n",
    "_ = fig.colorbar(im1, ax=ax, orientation=\"horizontal\", fraction=0.07, anchor=(2,0.0))\n",
    "_ = fig.colorbar(im2, ax=ax)"
   ]
  },
  {
   "cell_type": "code",
   "execution_count": null,
   "metadata": {},
   "outputs": [],
   "source": [
    "print(\"MSE = \", np.square(np.subtract(result_3, v_final)).mean())\n",
    "print(\"Improvement from static omega_rot\", 3435.4004432599318- np.square(np.subtract(result_3, v_final)).mean())"
   ]
  },
  {
   "cell_type": "markdown",
   "metadata": {},
   "source": [
    "Observation: theres is not improvement when adjusting omega_rot. "
   ]
  },
  {
   "cell_type": "code",
   "execution_count": null,
   "metadata": {},
   "outputs": [],
   "source": [
    "print(\"MSE at the equator result 1 = \", np.square(np.subtract(result_1[:, 55], v_final[:, 55])).mean())\n",
    "print(\"MSE at the equator result 2 = \", np.square(np.subtract(result_2[:, 55], v_final[:, 55])).mean())\n",
    "print(\"MSE at the equator result 3 = \", np.square(np.subtract(result_3[:, 55], v_final[:, 55])).mean())"
   ]
  },
  {
   "cell_type": "code",
   "execution_count": null,
   "metadata": {},
   "outputs": [],
   "source": [
    "print(\"MSE around the equator (+-7.25 deg) result 1 = \", np.square(np.subtract(result_1[:, 50:60], v_final[:, 50:60])).mean())\n",
    "print(\"MSE around the equator (+-7.25 deg) result 2 = \", np.square(np.subtract(result_2[:, 50:60], v_final[:, 50:60])).mean())\n",
    "print(\"MSE around the equator (+-7.25 deg) result 3 = \", np.square(np.subtract(result_3[:, 50:60], v_final[:, 50:60])).mean())"
   ]
  },
  {
   "cell_type": "code",
   "execution_count": null,
   "metadata": {
    "scrolled": true
   },
   "outputs": [],
   "source": [
    "print(\"MSE full sun result 1 = \", np.square(np.subtract(result_1, v_final)).mean())\n",
    "print(\"MSE full sun result 2 = \", np.square(np.subtract(result_2, v_final)).mean())\n",
    "print(\"MSE full sun result 3 = \", np.square(np.subtract(result_3, v_final)).mean())"
   ]
  },
  {
   "cell_type": "markdown",
   "metadata": {},
   "source": [
    "## Note: The results above have are bias towards the poles, and therefore, it is important to optimize the free parameters at an interval closer to the equator. "
   ]
  },
  {
   "cell_type": "markdown",
   "metadata": {},
   "source": [
    "# Optimize $\\alpha$ and $r_{h}$ around the equator (±7.25 deg)"
   ]
  },
  {
   "cell_type": "code",
   "execution_count": null,
   "metadata": {},
   "outputs": [],
   "source": [
    "t = t[51:60]\n",
    "print(\"t interval = \" + str(t[0]*180/np.pi) + \" to \" + str(t[-1]*180/np.pi) + \" deg\")"
   ]
  },
  {
   "cell_type": "code",
   "execution_count": null,
   "metadata": {},
   "outputs": [],
   "source": [
    "omega_rot_vec = np.zeros(9)\n",
    "for ii in range(len(omega_rot_vec)):\n",
    "    omega_rot_vec[ii] = 2*np.pi/(get_omega_rot(t[ii], 25.38)*86400)"
   ]
  },
  {
   "cell_type": "code",
   "execution_count": null,
   "metadata": {},
   "outputs": [],
   "source": [
    "# initialize matrix with free-parameters. \n",
    "optimial_free_params = np.zeros((2, len(omega_rot_vec)))"
   ]
  },
  {
   "cell_type": "code",
   "execution_count": null,
   "metadata": {},
   "outputs": [],
   "source": [
    "# create the model function with free - parameters: [alpha, rh]. \n",
    "model = lambda r_initial, alpha, rh: hux_f_mapping(r_initial, r, p, omega_rot, dr_vec, dp_vec, alpha, rh)"
   ]
  },
  {
   "cell_type": "code",
   "execution_count": null,
   "metadata": {},
   "outputs": [],
   "source": [
    "# create the model function with free - parameters: [alpha, rh]. \n",
    "for ii in range(0, len(omega_rot_vec)):\n",
    "    omega_rot = omega_rot_vec[ii]\n",
    "    popt, _ = scipy.optimize.curve_fit(f=model, xdata=v_initial[:,51+ii], ydata=v_final[:, 51+ii], p0=[0.15, 50*(695700)], bounds=[[0,0],[1,90*(695700)]])\n",
    "    optimial_free_params[0, ii] = popt[0]\n",
    "    optimial_free_params[1, ii] = popt[1]"
   ]
  },
  {
   "cell_type": "code",
   "execution_count": null,
   "metadata": {},
   "outputs": [],
   "source": [
    "%matplotlib inline\n",
    "fig, ax = plt.subplots()\n",
    "_ = ax.plot(optimial_free_params[0], optimial_free_params[1]/(695700))\n",
    "_ = ax.scatter(optimial_free_params[0], optimial_free_params[1]/(695700))\n",
    "_ = ax.set_ylabel(\"rh\", fontsize=17)\n",
    "_ = ax.set_xlabel(\"$\\alpha$\", fontsize=17)\n",
    "_ = ax.set_title(\"Optimize free params +-7.25 from equator\", fontsize=17)"
   ]
  },
  {
   "cell_type": "code",
   "execution_count": null,
   "metadata": {},
   "outputs": [],
   "source": [
    "print(\"Optimal alpha = \", np.mean(optimial_free_params[0]))"
   ]
  },
  {
   "cell_type": "code",
   "execution_count": null,
   "metadata": {},
   "outputs": [],
   "source": [
    "print(\"Optimal rh = \", np.mean(optimial_free_params[1]/(695700)))"
   ]
  },
  {
   "cell_type": "markdown",
   "metadata": {},
   "source": [
    "# Results summary"
   ]
  },
  {
   "cell_type": "markdown",
   "metadata": {},
   "source": [
    "Since, we are mainly interested in modeling around the equator, $\\alpha$ and $r_{h}$ are optimized in the range of ±7.25 degrees in latitude.\n",
    "\n",
    "After testing several solar wind data-sets in different Carrington rotations, the average optimal $\\alpha$ and $r_{h}$  are 0.16 and 52.6$R_{\\odot}$ respectively (see table below). This agrees with $\\alpha$ and $r_{h}$ suggested by Riley et al [1] which are 0.15 and 50$R_{\\odot}$ respectively. "
   ]
  },
  {
   "cell_type": "markdown",
   "metadata": {},
   "source": [
    "![](figures/optimal_free_params.png)"
   ]
  },
  {
   "cell_type": "code",
   "execution_count": null,
   "metadata": {},
   "outputs": [],
   "source": []
  },
  {
   "cell_type": "code",
   "execution_count": null,
   "metadata": {},
   "outputs": [],
   "source": []
  }
 ],
 "metadata": {
  "kernelspec": {
   "display_name": "Python 3",
   "language": "python",
   "name": "python3"
  },
  "language_info": {
   "codemirror_mode": {
    "name": "ipython",
    "version": 3
   },
   "file_extension": ".py",
   "mimetype": "text/x-python",
   "name": "python",
   "nbconvert_exporter": "python",
   "pygments_lexer": "ipython3",
   "version": "3.8.6"
  }
 },
 "nbformat": 4,
 "nbformat_minor": 4
}
